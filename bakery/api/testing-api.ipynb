{
 "cells": [
  {
   "cell_type": "code",
   "execution_count": 1,
   "metadata": {},
   "outputs": [],
   "source": [
    "import requests\n",
    "\n",
    "URL = \"http://127.0.0.1:8000/api/\""
   ]
  },
  {
   "cell_type": "code",
   "execution_count": 18,
   "metadata": {},
   "outputs": [
    {
     "name": "stdout",
     "output_type": "stream",
     "text": [
      "200\n",
      "{'id': 1, 'quantity': 13, 'total': 19.5, 'created': '2024-02-23T15:48:10.919012Z', 'product': 1}\n"
     ]
    }
   ],
   "source": [
    "res = requests.get(URL + \"orders/1\")\n",
    "print(res.status_code)\n",
    "print(res.json())"
   ]
  },
  {
   "cell_type": "code",
   "execution_count": 27,
   "metadata": {},
   "outputs": [
    {
     "name": "stdout",
     "output_type": "stream",
     "text": [
      "200\n",
      "12\n",
      "[{'id': 1, 'quantity': 13, 'total': 19.5, 'created': '2024-02-23T15:48:10.919012Z', 'product': 1}, {'id': 12, 'quantity': 8, 'total': 8.8, 'created': '2024-02-24T18:30:58.873682Z', 'product': 1}, {'id': 46, 'quantity': 14, 'total': 21.0, 'created': '2024-02-24T18:33:40.594519Z', 'product': 1}, {'id': 47, 'quantity': 5, 'total': 7.5, 'created': '2024-02-24T18:33:40.611571Z', 'product': 1}, {'id': 49, 'quantity': 18, 'total': 27.0, 'created': '2024-02-24T18:33:40.627197Z', 'product': 1}, {'id': 50, 'quantity': 13, 'total': 19.5, 'created': '2024-02-24T18:33:40.627197Z', 'product': 1}, {'id': 51, 'quantity': 2, 'total': 3.0, 'created': '2024-02-24T18:33:40.642818Z', 'product': 1}, {'id': 72, 'quantity': 5, 'total': 7.5, 'created': '2024-02-24T18:33:40.756264Z', 'product': 1}, {'id': 74, 'quantity': 14, 'total': 21.0, 'created': '2024-02-24T18:33:40.756264Z', 'product': 1}, {'id': 80, 'quantity': 9, 'total': 13.5, 'created': '2024-02-24T18:33:40.788610Z', 'product': 1}, {'id': 101, 'quantity': 2, 'total': 3.0, 'created': '2024-02-24T18:33:40.913527Z', 'product': 1}, {'id': 119, 'quantity': 12, 'total': 18.0, 'created': '2024-02-24T18:33:41.023858Z', 'product': 1}]\n"
     ]
    }
   ],
   "source": [
    "res = requests.get(URL + \"orders?product=1\")\n",
    "print(res.status_code)\n",
    "data = res.json()\n",
    "print(len(data))\n",
    "print(data)"
   ]
  },
  {
   "cell_type": "code",
   "execution_count": 31,
   "metadata": {},
   "outputs": [
    {
     "name": "stdout",
     "output_type": "stream",
     "text": [
      "200\n",
      "11\n",
      "[{'id': 1, 'name': 'khobz', 'category': 'Food', 'price': 1.5, 'stock': 100}, {'id': 2, 'name': 'apple', 'category': 'dairy', 'price': 1.1, 'stock': 68}, {'id': 3, 'name': 'banana', 'category': 'dairy', 'price': 5.6, 'stock': 84}, {'id': 4, 'name': 'orange', 'category': 'beverage', 'price': 3.61, 'stock': 74}, {'id': 5, 'name': 'grape', 'category': 'vegetable', 'price': 8.91, 'stock': 81}, {'id': 6, 'name': 'strawberry', 'category': 'beverage', 'price': 6.68, 'stock': 76}, {'id': 7, 'name': 'blueberry', 'category': 'dairy', 'price': 8.64, 'stock': 85}, {'id': 8, 'name': 'kiwi', 'category': 'fruit', 'price': 9.81, 'stock': 81}, {'id': 9, 'name': 'watermelon', 'category': 'dairy', 'price': 5.94, 'stock': 22}, {'id': 10, 'name': 'pineapple', 'category': 'dairy', 'price': 6.15, 'stock': 67}, {'id': 11, 'name': 'mango', 'category': 'fruit', 'price': 5.0, 'stock': 37}]\n"
     ]
    }
   ],
   "source": [
    "res = requests.get(URL + \"products?max_price=4\")\n",
    "print(res.status_code)\n",
    "data = res.json()\n",
    "print(len(data))\n",
    "print(data)"
   ]
  },
  {
   "cell_type": "code",
   "execution_count": 36,
   "metadata": {},
   "outputs": [
    {
     "name": "stdout",
     "output_type": "stream",
     "text": [
      "200\n",
      "5\n",
      "{'id': 3, 'name': 'banana', 'category': 'dairy', 'price': 5.6, 'stock': 112}\n"
     ]
    }
   ],
   "source": [
    "res = requests.post(URL + \"products/3/restock\", json={'quantity': 10})\n",
    "print(res.status_code)\n",
    "data = res.json()\n",
    "print(len(data))\n",
    "print(data)"
   ]
  },
  {
   "cell_type": "code",
   "execution_count": 24,
   "metadata": {},
   "outputs": [
    {
     "name": "stdout",
     "output_type": "stream",
     "text": [
      "[{'product': 7, 'quantity': 10, 'price': 98.10000000000001, 'created_at': '2020-04-27T02:25:43'}, {'product': 7, 'quantity': 14, 'price': 137.34, 'created_at': '2021-09-26T15:41:22'}, {'product': 3, 'quantity': 14, 'price': 50.54, 'created_at': '2022-07-14T21:20:16'}, {'product': 7, 'quantity': 2, 'price': 19.62, 'created_at': '2022-06-27T18:05:26'}, {'product': 8, 'quantity': 7, 'price': 41.580000000000005, 'created_at': '2020-04-15T10:45:22'}, {'product': 2, 'quantity': 17, 'price': 95.19999999999999, 'created_at': '2020-11-16T00:31:48'}, {'product': 3, 'quantity': 5, 'price': 18.05, 'created_at': '2022-10-24T14:43:21'}, {'product': 8, 'quantity': 15, 'price': 89.10000000000001, 'created_at': '2022-10-06T01:22:08'}, {'product': 8, 'quantity': 18, 'price': 106.92, 'created_at': '2021-12-19T15:05:08'}, {'product': 2, 'quantity': 11, 'price': 61.599999999999994, 'created_at': '2022-09-21T21:03:39'}, {'product': 1, 'quantity': 8, 'price': 8.8, 'created_at': '2022-01-20T18:50:43'}, {'product': 9, 'quantity': 7, 'price': 43.050000000000004, 'created_at': '2021-07-04T08:34:15'}, {'product': 7, 'quantity': 20, 'price': 196.20000000000002, 'created_at': '2021-10-01T05:01:41'}, {'product': 10, 'quantity': 10, 'price': 50.0, 'created_at': '2021-04-23T18:54:09'}, {'product': 4, 'quantity': 5, 'price': 44.55, 'created_at': '2021-05-24T21:26:27'}, {'product': 7, 'quantity': 9, 'price': 88.29, 'created_at': '2022-04-12T23:57:53'}, {'product': 10, 'quantity': 6, 'price': 30.0, 'created_at': '2020-09-22T00:23:06'}, {'product': 3, 'quantity': 17, 'price': 61.37, 'created_at': '2021-04-28T03:38:45'}, {'product': 3, 'quantity': 7, 'price': 25.27, 'created_at': '2021-04-03T23:45:01'}, {'product': 3, 'quantity': 18, 'price': 64.98, 'created_at': '2021-08-10T08:30:09'}, {'product': 8, 'quantity': 8, 'price': 47.52, 'created_at': '2021-10-02T05:13:58'}, {'product': 9, 'quantity': 7, 'price': 43.050000000000004, 'created_at': '2022-11-25T19:01:44'}, {'product': 0, 'quantity': 14, 'price': 21.0, 'created_at': '2020-12-08T03:39:48'}, {'product': 0, 'quantity': 5, 'price': 7.5, 'created_at': '2020-11-11T04:07:05'}, {'product': 2, 'quantity': 3, 'price': 16.799999999999997, 'created_at': '2020-11-26T09:50:24'}, {'product': 0, 'quantity': 18, 'price': 27.0, 'created_at': '2020-05-18T07:30:18'}, {'product': 0, 'quantity': 13, 'price': 19.5, 'created_at': '2022-06-19T18:45:39'}, {'product': 0, 'quantity': 2, 'price': 3.0, 'created_at': '2021-05-14T07:20:53'}, {'product': 10, 'quantity': 8, 'price': 40.0, 'created_at': '2022-03-14T14:23:03'}, {'product': 7, 'quantity': 19, 'price': 186.39000000000001, 'created_at': '2020-12-23T22:27:36'}, {'product': 4, 'quantity': 6, 'price': 53.46, 'created_at': '2020-07-20T17:49:01'}, {'product': 8, 'quantity': 1, 'price': 5.94, 'created_at': '2020-05-07T00:29:11'}, {'product': 4, 'quantity': 11, 'price': 98.01, 'created_at': '2021-02-08T09:56:46'}, {'product': 1, 'quantity': 4, 'price': 4.4, 'created_at': '2021-08-15T14:26:11'}, {'product': 3, 'quantity': 6, 'price': 21.66, 'created_at': '2021-12-18T23:07:35'}, {'product': 2, 'quantity': 20, 'price': 112.0, 'created_at': '2020-02-18T23:24:01'}, {'product': 9, 'quantity': 1, 'price': 6.15, 'created_at': '2021-06-23T07:51:13'}, {'product': 2, 'quantity': 4, 'price': 22.4, 'created_at': '2020-02-20T16:38:49'}, {'product': 7, 'quantity': 5, 'price': 49.050000000000004, 'created_at': '2021-09-22T17:02:18'}, {'product': 3, 'quantity': 7, 'price': 25.27, 'created_at': '2022-07-14T00:46:44'}, {'product': 6, 'quantity': 7, 'price': 60.480000000000004, 'created_at': '2020-12-18T08:29:56'}, {'product': 9, 'quantity': 6, 'price': 36.900000000000006, 'created_at': '2021-12-12T21:01:19'}, {'product': 8, 'quantity': 16, 'price': 95.04, 'created_at': '2020-02-05T21:14:48'}, {'product': 6, 'quantity': 15, 'price': 129.60000000000002, 'created_at': '2022-02-06T21:39:52'}, {'product': 4, 'quantity': 13, 'price': 115.83, 'created_at': '2022-12-08T12:54:42'}, {'product': 3, 'quantity': 10, 'price': 36.1, 'created_at': '2020-01-22T08:52:21'}, {'product': 9, 'quantity': 18, 'price': 110.7, 'created_at': '2020-12-28T02:29:22'}, {'product': 1, 'quantity': 20, 'price': 22.0, 'created_at': '2021-11-14T20:57:06'}, {'product': 0, 'quantity': 5, 'price': 7.5, 'created_at': '2022-08-26T18:03:05'}, {'product': 7, 'quantity': 13, 'price': 127.53, 'created_at': '2020-12-01T08:42:31'}, {'product': 0, 'quantity': 14, 'price': 21.0, 'created_at': '2020-06-11T22:28:04'}, {'product': 7, 'quantity': 1, 'price': 9.81, 'created_at': '2021-06-16T10:25:13'}, {'product': 10, 'quantity': 1, 'price': 5.0, 'created_at': '2022-12-01T03:35:59'}, {'product': 6, 'quantity': 14, 'price': 120.96000000000001, 'created_at': '2021-07-05T23:36:47'}, {'product': 5, 'quantity': 13, 'price': 86.84, 'created_at': '2022-11-04T08:09:14'}, {'product': 1, 'quantity': 10, 'price': 11.0, 'created_at': '2022-03-04T04:31:18'}, {'product': 0, 'quantity': 9, 'price': 13.5, 'created_at': '2021-12-02T09:53:30'}, {'product': 7, 'quantity': 20, 'price': 196.20000000000002, 'created_at': '2020-05-17T08:40:05'}, {'product': 3, 'quantity': 13, 'price': 46.93, 'created_at': '2021-04-10T14:20:26'}, {'product': 5, 'quantity': 8, 'price': 53.44, 'created_at': '2021-07-09T03:09:54'}, {'product': 9, 'quantity': 6, 'price': 36.900000000000006, 'created_at': '2020-04-05T03:49:35'}, {'product': 2, 'quantity': 1, 'price': 5.6, 'created_at': '2022-10-11T17:14:33'}, {'product': 3, 'quantity': 18, 'price': 64.98, 'created_at': '2021-05-02T03:56:03'}, {'product': 2, 'quantity': 17, 'price': 95.19999999999999, 'created_at': '2022-05-22T09:34:57'}, {'product': 5, 'quantity': 7, 'price': 46.76, 'created_at': '2022-03-15T18:15:26'}, {'product': 3, 'quantity': 5, 'price': 18.05, 'created_at': '2021-07-23T22:27:34'}, {'product': 9, 'quantity': 16, 'price': 98.4, 'created_at': '2021-08-26T13:52:24'}, {'product': 10, 'quantity': 18, 'price': 90.0, 'created_at': '2020-07-04T05:43:24'}, {'product': 5, 'quantity': 2, 'price': 13.36, 'created_at': '2021-02-16T19:01:02'}, {'product': 5, 'quantity': 18, 'price': 120.24, 'created_at': '2020-12-04T10:47:43'}, {'product': 3, 'quantity': 3, 'price': 10.83, 'created_at': '2020-04-27T01:30:01'}, {'product': 1, 'quantity': 17, 'price': 18.700000000000003, 'created_at': '2021-09-04T18:10:25'}, {'product': 7, 'quantity': 4, 'price': 39.24, 'created_at': '2021-08-25T09:37:35'}, {'product': 10, 'quantity': 8, 'price': 40.0, 'created_at': '2020-11-07T21:02:54'}, {'product': 5, 'quantity': 17, 'price': 113.56, 'created_at': '2021-03-11T22:00:22'}, {'product': 10, 'quantity': 16, 'price': 80.0, 'created_at': '2020-06-06T20:08:13'}, {'product': 7, 'quantity': 13, 'price': 127.53, 'created_at': '2021-03-06T05:06:37'}, {'product': 0, 'quantity': 2, 'price': 3.0, 'created_at': '2022-08-04T17:32:51'}, {'product': 7, 'quantity': 17, 'price': 166.77, 'created_at': '2020-05-06T18:56:03'}, {'product': 8, 'quantity': 18, 'price': 106.92, 'created_at': '2021-03-07T21:03:37'}, {'product': 6, 'quantity': 6, 'price': 51.84, 'created_at': '2022-03-06T10:08:58'}, {'product': 10, 'quantity': 8, 'price': 40.0, 'created_at': '2022-02-06T22:47:01'}, {'product': 4, 'quantity': 6, 'price': 53.46, 'created_at': '2022-03-12T09:55:38'}, {'product': 5, 'quantity': 4, 'price': 26.72, 'created_at': '2020-10-06T21:27:42'}, {'product': 7, 'quantity': 20, 'price': 196.20000000000002, 'created_at': '2021-05-26T16:09:29'}, {'product': 9, 'quantity': 8, 'price': 49.2, 'created_at': '2020-09-16T12:16:38'}, {'product': 1, 'quantity': 10, 'price': 11.0, 'created_at': '2022-09-05T15:10:00'}, {'product': 3, 'quantity': 2, 'price': 7.22, 'created_at': '2021-08-11T01:30:02'}, {'product': 3, 'quantity': 18, 'price': 64.98, 'created_at': '2020-07-27T11:54:44'}, {'product': 5, 'quantity': 9, 'price': 60.12, 'created_at': '2021-10-09T04:07:13'}, {'product': 6, 'quantity': 18, 'price': 155.52, 'created_at': '2021-03-02T11:50:47'}, {'product': 2, 'quantity': 3, 'price': 16.799999999999997, 'created_at': '2022-06-12T14:41:20'}, {'product': 8, 'quantity': 16, 'price': 95.04, 'created_at': '2021-07-06T18:36:15'}, {'product': 4, 'quantity': 11, 'price': 98.01, 'created_at': '2021-07-02T22:07:48'}, {'product': 8, 'quantity': 7, 'price': 41.580000000000005, 'created_at': '2020-03-09T18:08:04'}, {'product': 0, 'quantity': 12, 'price': 18.0, 'created_at': '2021-06-15T07:35:00'}, {'product': 5, 'quantity': 18, 'price': 120.24, 'created_at': '2021-04-02T22:37:55'}, {'product': 4, 'quantity': 6, 'price': 53.46, 'created_at': '2021-06-23T11:20:53'}, {'product': 8, 'quantity': 6, 'price': 35.64, 'created_at': '2020-01-03T05:30:20'}, {'product': 7, 'quantity': 14, 'price': 137.34, 'created_at': '2020-11-09T04:24:07'}]\n"
     ]
    }
   ],
   "source": [
    "# generating random data\n",
    "import random\n",
    "import datetime\n",
    "def generate_created_at():\n",
    "    year = random.randint(2020, 2022)\n",
    "    month = random.randint(1, 12)\n",
    "    day = random.randint(1, 28)  # to avoid issues with February\n",
    "    hour = random.randint(0, 23)\n",
    "    minute = random.randint(0, 59)\n",
    "    second = random.randint(0, 59)\n",
    "    created_at = datetime.datetime(year, month, day, hour, minute, second)\n",
    "    return created_at\n",
    "\n",
    "product_prices = [1.5, 1.1, 5.6, 3.61, 8.91, 6.68, 8.64, 9.81, 5.94, 6.15, 5.0]\n",
    "data=[]\n",
    "for i in range(100):\n",
    "    product = random.randint(0, 10)\n",
    "    quantity = random.randint(1, 20)\n",
    "    data.append({\n",
    "        \"product\": product,\n",
    "        \"quantity\": quantity,\n",
    "        \"price\": product_prices[product]*quantity,\n",
    "        \"created_at\": generate_created_at().isoformat()\n",
    "    })\n",
    "print(data)"
   ]
  }
 ],
 "metadata": {
  "kernelspec": {
   "display_name": "Python 3",
   "language": "python",
   "name": "python3"
  },
  "language_info": {
   "codemirror_mode": {
    "name": "ipython",
    "version": 3
   },
   "file_extension": ".py",
   "mimetype": "text/x-python",
   "name": "python",
   "nbconvert_exporter": "python",
   "pygments_lexer": "ipython3",
   "version": "3.11.8"
  }
 },
 "nbformat": 4,
 "nbformat_minor": 2
}
